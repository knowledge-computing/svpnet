{
 "cells": [
  {
   "cell_type": "code",
   "execution_count": 1,
   "id": "3a817192-095f-4346-a5dd-57a6c3d9acc1",
   "metadata": {},
   "outputs": [],
   "source": [
    "import os\n",
    "\n",
    "os.chdir('/home/yijun/work/spatiotemporal-predictive-learning')\n",
    "\n",
    "from data.TaxiBJ.TaxiBJ import *\n"
   ]
  },
  {
   "cell_type": "code",
   "execution_count": 2,
   "id": "dea8b5db-b5f4-4c42-b983-f0873663d984",
   "metadata": {},
   "outputs": [
    {
     "name": "stdout",
     "output_type": "stream",
     "text": [
      "load /data/yijun/TaxiBJ/CACHE/TaxiBJ_C4_P0_T0_H4.h5 successfully\n"
     ]
    }
   ],
   "source": [
    "dataset = load_data(data_path='/data/yijun/TaxiBJ', \n",
    "                    len_closeness=4,\n",
    "                    len_period=0,\n",
    "                    len_trend=0,\n",
    "                    len_horizon=4,\n",
    "                    meta_data=False,\n",
    "                    meteorol_data=False,\n",
    "                    holiday_data=False)"
   ]
  },
  {
   "cell_type": "code",
   "execution_count": 4,
   "id": "4800450b-297f-440a-be94-f3273e7733e7",
   "metadata": {},
   "outputs": [
    {
     "data": {
      "text/plain": [
       "(18081, 4, 2, 32, 32)"
      ]
     },
     "execution_count": 4,
     "metadata": {},
     "output_type": "execute_result"
    }
   ],
   "source": [
    "dataset['XC'][: -48 * 30 * 2].shape"
   ]
  },
  {
   "cell_type": "code",
   "execution_count": 3,
   "id": "a003bbda-1dad-4fa4-8f5c-b3b352b145d1",
   "metadata": {},
   "outputs": [
    {
     "data": {
      "text/plain": [
       "b'2013070105'"
      ]
     },
     "execution_count": 3,
     "metadata": {},
     "output_type": "execute_result"
    }
   ],
   "source": [
    "dataset['T'][0]"
   ]
  },
  {
   "cell_type": "code",
   "execution_count": 4,
   "id": "c0c1e5d7-9d51-43d4-804e-73dfd39d91be",
   "metadata": {},
   "outputs": [
    {
     "data": {
      "text/plain": [
       "b'2015121944'"
      ]
     },
     "execution_count": 4,
     "metadata": {},
     "output_type": "execute_result"
    }
   ],
   "source": [
    "dataset['T'][-5000]"
   ]
  },
  {
   "cell_type": "code",
   "execution_count": 10,
   "id": "b729e743-bf33-4587-b760-ce99fbe3781c",
   "metadata": {},
   "outputs": [
    {
     "data": {
      "text/plain": [
       "[b'2016040844',\n",
       " b'2016040845',\n",
       " b'2016040846',\n",
       " b'2016040847',\n",
       " b'2016040848',\n",
       " b'2016040901',\n",
       " b'2016040902',\n",
       " b'2016040903',\n",
       " b'2016040904',\n",
       " b'2016040905',\n",
       " b'2016040906',\n",
       " b'2016040907',\n",
       " b'2016040908',\n",
       " b'2016040909',\n",
       " b'2016040910',\n",
       " b'2016040911',\n",
       " b'2016040912',\n",
       " b'2016040913',\n",
       " b'2016040914',\n",
       " b'2016040915',\n",
       " b'2016040916',\n",
       " b'2016040917',\n",
       " b'2016040918',\n",
       " b'2016040919',\n",
       " b'2016040920',\n",
       " b'2016040921',\n",
       " b'2016040922',\n",
       " b'2016040923',\n",
       " b'2016040924',\n",
       " b'2016040925',\n",
       " b'2016040926',\n",
       " b'2016040927',\n",
       " b'2016040928',\n",
       " b'2016040929',\n",
       " b'2016040930',\n",
       " b'2016040931',\n",
       " b'2016040932',\n",
       " b'2016040933',\n",
       " b'2016040934',\n",
       " b'2016040935',\n",
       " b'2016040936',\n",
       " b'2016040937',\n",
       " b'2016040938',\n",
       " b'2016040939',\n",
       " b'2016040940',\n",
       " b'2016040941',\n",
       " b'2016040942',\n",
       " b'2016040943',\n",
       " b'2016040944',\n",
       " b'2016040945']"
      ]
     },
     "execution_count": 10,
     "metadata": {},
     "output_type": "execute_result"
    }
   ],
   "source": [
    "dataset['T'][-50:]"
   ]
  },
  {
   "cell_type": "code",
   "execution_count": 3,
   "id": "a2d30172-e5cb-4f31-8725-52aec124be83",
   "metadata": {},
   "outputs": [],
   "source": [
    "import os\n",
    "import random\n",
    "import numpy as np\n",
    "import matplotlib.pyplot as plt\n",
    "\n",
    "os.chdir('/home/yijun/work/video-prediction')\n",
    "\n",
    "from matplotlib.gridspec import GridSpec\n",
    "import matplotlib.pyplot as plt\n",
    "from mpl_toolkits.axes_grid1 import make_axes_locatable\n",
    "\n",
    "def plot_N(images, vmin=None, vmax=None):\n",
    "    \n",
    "    fig = plt.figure(figsize=(32, 10))\n",
    "    gs = GridSpec(nrows=1, ncols=len(images))\n",
    "    gs.update( hspace = 0.5, wspace = 0.)\n",
    "    for i in range(len(images)):\n",
    "        ax = fig.add_subplot(gs[0, i])\n",
    "        if vmin is None or vmax is None:\n",
    "            im = ax.imshow(images[i])\n",
    "        else:\n",
    "            im = ax.imshow(images[i], vmin=vmin, vmax=vmax)\n",
    "        ax.patch.set_edgecolor('white')  \n",
    "        ax.patch.set_linewidth(5) \n",
    "        ax.set_xticks([])\n",
    "        ax.set_yticks([])\n",
    "    plt.show()  \n",
    "    "
   ]
  },
  {
   "cell_type": "code",
   "execution_count": 4,
   "id": "e4c2ee1c-4c42-488a-a67f-76f5e18a41bf",
   "metadata": {},
   "outputs": [
    {
     "name": "stdout",
     "output_type": "stream",
     "text": [
      "1.0 -1.0\n"
     ]
    }
   ],
   "source": [
    "print(np.max(dataset['Y']),np.min(dataset['Y']))"
   ]
  },
  {
   "cell_type": "code",
   "execution_count": 7,
   "id": "6b0a3e95-fe8f-4b1f-99e2-9aa496b8db62",
   "metadata": {},
   "outputs": [
    {
     "data": {
      "image/png": "[encoded data removed]",
      "text/plain": [
       "<Figure size 2304x720 with 4 Axes>"
      ]
     },
     "metadata": {},
     "output_type": "display_data"
    }
   ],
   "source": [
    "plot_N([dataset['Y'][9, i, 0, ...] for i in range(4)], vmin=-1, vmax=1)"
   ]
  },
  {
   "cell_type": "code",
   "execution_count": null,
   "id": "5cc17d74-0910-4c8f-915d-9c17e2dd1070",
   "metadata": {},
   "outputs": [],
   "source": [
    "dataset['mmn']"
   ]
  },
  {
   "cell_type": "code",
   "execution_count": null,
   "id": "cc363e5c-ca51-44c3-b9a5-664f8d4a52c9",
   "metadata": {},
   "outputs": [],
   "source": []
  }
 ],
 "metadata": {
  "kernelspec": {
   "display_name": "Python 3 (ipykernel)",
   "language": "python",
   "name": "python3"
  },
  "language_info": {
   "codemirror_mode": {
    "name": "ipython",
    "version": 3
   },
   "file_extension": ".py",
   "mimetype": "text/x-python",
   "name": "python",
   "nbconvert_exporter": "python",
   "pygments_lexer": "ipython3",
   "version": "3.8.13"
  }
 },
 "nbformat": 4,
 "nbformat_minor": 5
}
